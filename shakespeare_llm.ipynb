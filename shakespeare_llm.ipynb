{
  "nbformat": 4,
  "nbformat_minor": 0,
  "metadata": {
    "colab": {
      "provenance": [],
      "authorship_tag": "ABX9TyNn4QM99J5ha55jsysihMJM",
      "include_colab_link": true
    },
    "kernelspec": {
      "name": "python3",
      "display_name": "Python 3"
    },
    "language_info": {
      "name": "python"
    }
  },
  "cells": [
    {
      "cell_type": "markdown",
      "metadata": {
        "id": "view-in-github",
        "colab_type": "text"
      },
      "source": [
        "<a href=\"https://colab.research.google.com/github/tkaden/shakespeare-LLM/blob/main/shakespeare_llm.ipynb\" target=\"_parent\"><img src=\"https://colab.research.google.com/assets/colab-badge.svg\" alt=\"Open In Colab\"/></a>"
      ]
    },
    {
      "cell_type": "code",
      "source": [
        "import torch\n",
        "import torch.nn as nn\n",
        "from torch.nn import functional as F"
      ],
      "metadata": {
        "id": "Ki3KsVf1SXXb"
      },
      "execution_count": null,
      "outputs": []
    },
    {
      "cell_type": "code",
      "source": [
        "# hyperparameters\n",
        "batch_size = 16 # how many independent sequences will we process in parallel?\n",
        "block_size = 32 # what is the maximum context length for predictions?\n",
        "max_iters = 5000\n",
        "eval_interval = 100\n",
        "learning_rate = 1e-3\n",
        "device = 'cuda' if torch.cuda.is_available() else 'cpu'\n",
        "eval_iters = 200\n",
        "n_embd = 64\n",
        "n_head = 4\n",
        "n_layer = 4\n",
        "dropout = 0.0\n",
        "# ------------\n",
        "\n",
        "torch.manual_seed(1337)"
      ],
      "metadata": {
        "colab": {
          "base_uri": "https://localhost:8080/"
        },
        "id": "sbG8EF2GSgxj",
        "outputId": "dca0209f-fabf-4ce4-e1ff-d53b9d56760a"
      },
      "execution_count": null,
      "outputs": [
        {
          "output_type": "execute_result",
          "data": {
            "text/plain": [
              "<torch._C.Generator at 0x7b879010cbb0>"
            ]
          },
          "metadata": {},
          "execution_count": 35
        }
      ]
    },
    {
      "cell_type": "code",
      "source": [
        "# wget https://raw.githubusercontent.com/karpathy/char-rnn/master/data/tinyshakespeare/input.txt\n",
        "with open('input.txt', 'r', encoding='utf-8') as f:\n",
        "    text = f.read()\n",
        "\n",
        "# here are all the unique characters that occur in this text\n",
        "chars = sorted(list(set(text)))\n",
        "vocab_size = len(chars)\n",
        "# create a mapping from characters to integers\n",
        "stoi = { ch:i for i,ch in enumerate(chars) }\n",
        "itos = { i:ch for i,ch in enumerate(chars) }\n",
        "encode = lambda s: [stoi[c] for c in s] # encoder: take a string, output a list of integers\n",
        "decode = lambda l: ''.join([itos[i] for i in l]) # decoder: take a list of integers, output a string"
      ],
      "metadata": {
        "id": "imd1k20zShQe"
      },
      "execution_count": null,
      "outputs": []
    },
    {
      "cell_type": "code",
      "source": [
        "# Train and test splits\n",
        "data = torch.tensor(encode(text), dtype=torch.long)\n",
        "n = int(0.9*len(data)) # first 90% will be train, rest val\n",
        "train_data = data[:n]\n",
        "val_data = data[n:]"
      ],
      "metadata": {
        "id": "MfBP8RXNShTo"
      },
      "execution_count": null,
      "outputs": []
    },
    {
      "cell_type": "code",
      "source": [
        "# data loading\n",
        "def get_batch(split):\n",
        "    # generate a small batch of data of inputs x and targets y\n",
        "    data = train_data if split == 'train' else val_data\n",
        "    ix = torch.randint(len(data) - block_size, (batch_size,))\n",
        "    x = torch.stack([data[i:i+block_size] for i in ix])\n",
        "    y = torch.stack([data[i+1:i+block_size+1] for i in ix])\n",
        "    x, y = x.to(device), y.to(device)\n",
        "    return x, y"
      ],
      "metadata": {
        "id": "2Xf6ygbiShW8"
      },
      "execution_count": null,
      "outputs": []
    },
    {
      "cell_type": "code",
      "source": [
        "@torch.no_grad()\n",
        "def estimate_loss():\n",
        "    out = {}\n",
        "    model.eval()\n",
        "    for split in ['train', 'val']:\n",
        "        losses = torch.zeros(eval_iters)\n",
        "        for k in range(eval_iters):\n",
        "            X, Y = get_batch(split)\n",
        "            logits, loss = model(X, Y)\n",
        "            losses[k] = loss.item()\n",
        "        out[split] = losses.mean()\n",
        "    model.train()\n",
        "    return out"
      ],
      "metadata": {
        "id": "32brF_aNShaB"
      },
      "execution_count": null,
      "outputs": []
    },
    {
      "cell_type": "code",
      "source": [
        "class Head(nn.Module):\n",
        "    \"\"\" one head of self-attention \"\"\"\n",
        "\n",
        "    def __init__(self, head_size):\n",
        "        super().__init__()\n",
        "        self.key = nn.Linear(n_embd, head_size, bias=False)\n",
        "        self.query = nn.Linear(n_embd, head_size, bias=False)\n",
        "        self.value = nn.Linear(n_embd, head_size, bias=False)\n",
        "        self.register_buffer('tril', torch.tril(torch.ones(block_size, block_size)))\n",
        "\n",
        "        self.dropout = nn.Dropout(dropout)\n",
        "\n",
        "    def forward(self, x):\n",
        "        B,T,C = x.shape\n",
        "        k = self.key(x)   # (B,T,C)\n",
        "        q = self.query(x) # (B,T,C)\n",
        "        # compute attention scores (\"affinities\")\n",
        "        wei = q @ k.transpose(-2,-1) * C**-0.5 # (B, T, C) @ (B, C, T) -> (B, T, T)\n",
        "        wei = wei.masked_fill(self.tril[:T, :T] == 0, float('-inf')) # (B, T, T)\n",
        "        wei = F.softmax(wei, dim=-1) # (B, T, T)\n",
        "        wei = self.dropout(wei)\n",
        "        # perform the weighted aggregation of the values\n",
        "        v = self.value(x) # (B,T,C)\n",
        "        out = wei @ v # (B, T, T) @ (B, T, C) -> (B, T, C)\n",
        "        return out"
      ],
      "metadata": {
        "id": "L5reOSEiShh-"
      },
      "execution_count": null,
      "outputs": []
    },
    {
      "cell_type": "code",
      "source": [
        "class MultiHeadAttention(nn.Module):\n",
        "    \"\"\" multiple heads of self-attention in parallel \"\"\"\n",
        "\n",
        "    def __init__(self, num_heads, head_size):\n",
        "        super().__init__()\n",
        "        self.heads = nn.ModuleList([Head(head_size) for _ in range(num_heads)])\n",
        "        self.proj = nn.Linear(n_embd, n_embd)\n",
        "        self.dropout = nn.Dropout(dropout)\n",
        "\n",
        "    def forward(self, x):\n",
        "        out = torch.cat([h(x) for h in self.heads], dim=-1)\n",
        "        out = self.dropout(self.proj(out))\n",
        "        return out"
      ],
      "metadata": {
        "id": "9NLr8fKiS39g"
      },
      "execution_count": null,
      "outputs": []
    },
    {
      "cell_type": "code",
      "source": [
        "class FeedFoward(nn.Module):\n",
        "    \"\"\" a simple linear layer followed by a non-linearity \"\"\"\n",
        "\n",
        "    def __init__(self, n_embd):\n",
        "        super().__init__()\n",
        "        self.net = nn.Sequential(\n",
        "            nn.Linear(n_embd, 4 * n_embd),\n",
        "            nn.ReLU(),\n",
        "            nn.Linear(4 * n_embd, n_embd),\n",
        "            nn.Dropout(dropout),\n",
        "        )\n",
        "\n",
        "    def forward(self, x):\n",
        "        return self.net(x)"
      ],
      "metadata": {
        "id": "xtWKq6E9S4Ar"
      },
      "execution_count": null,
      "outputs": []
    },
    {
      "cell_type": "code",
      "source": [
        "class Block(nn.Module):\n",
        "    \"\"\" Transformer block: communication followed by computation \"\"\"\n",
        "\n",
        "    def __init__(self, n_embd, n_head):\n",
        "        # n_embd: embedding dimension, n_head: the number of heads we'd like\n",
        "        super().__init__()\n",
        "        head_size = n_embd // n_head\n",
        "        self.sa = MultiHeadAttention(n_head, head_size)\n",
        "        self.ffwd = FeedFoward(n_embd)\n",
        "        self.ln1 = nn.LayerNorm(n_embd)\n",
        "        self.ln2 = nn.LayerNorm(n_embd)\n",
        "\n",
        "    def forward(self, x):\n",
        "        x = x + self.sa(self.ln1(x))\n",
        "        x = x + self.ffwd(self.ln2(x))\n",
        "        return x\n"
      ],
      "metadata": {
        "id": "fA7t-o7yS4IA"
      },
      "execution_count": null,
      "outputs": []
    },
    {
      "cell_type": "code",
      "source": [
        "# super simple bigram model\n",
        "class BigramLanguageModel(nn.Module):\n",
        "\n",
        "    def __init__(self):\n",
        "        super().__init__()\n",
        "        # each token directly reads off the logits for the next token from a lookup table\n",
        "        self.token_embedding_table = nn.Embedding(vocab_size, n_embd)\n",
        "        self.position_embedding_table = nn.Embedding(block_size, n_embd)\n",
        "        self.blocks = nn.Sequential(*[Block(n_embd, n_head=n_head) for _ in range(n_layer)])\n",
        "        self.ln_f = nn.LayerNorm(n_embd) # final layer norm\n",
        "        self.lm_head = nn.Linear(n_embd, vocab_size)\n",
        "\n",
        "    def forward(self, idx, targets=None):\n",
        "        B, T = idx.shape\n",
        "\n",
        "        # idx and targets are both (B,T) tensor of integers\n",
        "        tok_emb = self.token_embedding_table(idx) # (B,T,C)\n",
        "        pos_emb = self.position_embedding_table(torch.arange(T, device=device)) # (T,C)\n",
        "        x = tok_emb + pos_emb # (B,T,C)\n",
        "        x = self.blocks(x) # (B,T,C)\n",
        "        x = self.ln_f(x) # (B,T,C)\n",
        "        logits = self.lm_head(x) # (B,T,vocab_size)\n",
        "\n",
        "        if targets is None:\n",
        "            loss = None\n",
        "        else:\n",
        "            B, T, C = logits.shape\n",
        "            logits = logits.view(B*T, C)\n",
        "            targets = targets.view(B*T)\n",
        "            loss = F.cross_entropy(logits, targets)\n",
        "\n",
        "        return logits, loss\n",
        "\n",
        "    def generate(self, idx, max_new_tokens):\n",
        "        # idx is (B, T) array of indices in the current context\n",
        "        for _ in range(max_new_tokens):\n",
        "            # crop idx to the last block_size tokens\n",
        "            idx_cond = idx[:, -block_size:]\n",
        "            # get the predictions\n",
        "            logits, loss = self(idx_cond)\n",
        "            # focus only on the last time step\n",
        "            logits = logits[:, -1, :] # becomes (B, C)\n",
        "            # apply softmax to get probabilities\n",
        "            probs = F.softmax(logits, dim=-1) # (B, C)\n",
        "            # sample from the distribution\n",
        "            idx_next = torch.multinomial(probs, num_samples=1) # (B, 1)\n",
        "            # append sampled index to the running sequence\n",
        "            idx = torch.cat((idx, idx_next), dim=1) # (B, T+1)\n",
        "        return idx"
      ],
      "metadata": {
        "id": "7O9Yl0z0S7wG"
      },
      "execution_count": null,
      "outputs": []
    },
    {
      "cell_type": "code",
      "source": [
        "model = BigramLanguageModel()\n",
        "m = model.to(device)\n",
        "# print the number of parameters in the model\n",
        "print(sum(p.numel() for p in m.parameters())/1e6, 'M parameters')"
      ],
      "metadata": {
        "colab": {
          "base_uri": "https://localhost:8080/"
        },
        "id": "7YvHVCycTIRp",
        "outputId": "2ba53ad9-0369-45f5-ff7f-374836400d7a"
      },
      "execution_count": null,
      "outputs": [
        {
          "output_type": "stream",
          "name": "stdout",
          "text": [
            "0.209729 M parameters\n"
          ]
        }
      ]
    },
    {
      "cell_type": "code",
      "source": [
        "# create a PyTorch optimizer\n",
        "optimizer = torch.optim.AdamW(model.parameters(), lr=learning_rate)"
      ],
      "metadata": {
        "id": "fQlE8c5FTIU5"
      },
      "execution_count": null,
      "outputs": []
    },
    {
      "cell_type": "code",
      "source": [
        "for iter in range(max_iters):\n",
        "\n",
        "    # every once in a while evaluate the loss on train and val sets\n",
        "    if iter % eval_interval == 0 or iter == max_iters - 1:\n",
        "        losses = estimate_loss()\n",
        "        print(f\"step {iter}: train loss {losses['train']:.4f}, val loss {losses['val']:.4f}\")\n",
        "\n",
        "    # sample a batch of data\n",
        "    xb, yb = get_batch('train')\n",
        "\n",
        "    # evaluate the loss\n",
        "    logits, loss = model(xb, yb)\n",
        "    optimizer.zero_grad(set_to_none=True)\n",
        "    loss.backward()\n",
        "    optimizer.step()"
      ],
      "metadata": {
        "colab": {
          "base_uri": "https://localhost:8080/"
        },
        "id": "44oFxAQETIX_",
        "outputId": "545f9fe8-dc2b-4da0-ffbf-5b12b176111d"
      },
      "execution_count": null,
      "outputs": [
        {
          "output_type": "stream",
          "name": "stdout",
          "text": [
            "step 0: train loss 4.4116, val loss 4.4022\n",
            "step 100: train loss 2.6568, val loss 2.6670\n",
            "step 200: train loss 2.5091, val loss 2.5059\n",
            "step 300: train loss 2.4194, val loss 2.4335\n",
            "step 400: train loss 2.3500, val loss 2.3564\n",
            "step 500: train loss 2.2965, val loss 2.3127\n",
            "step 600: train loss 2.2412, val loss 2.2502\n",
            "step 700: train loss 2.2047, val loss 2.2183\n",
            "step 800: train loss 2.1642, val loss 2.1874\n",
            "step 900: train loss 2.1249, val loss 2.1506\n",
            "step 1000: train loss 2.1030, val loss 2.1297\n",
            "step 1100: train loss 2.0700, val loss 2.1182\n",
            "step 1200: train loss 2.0384, val loss 2.0800\n",
            "step 1300: train loss 2.0252, val loss 2.0643\n",
            "step 1400: train loss 1.9916, val loss 2.0358\n",
            "step 1500: train loss 1.9703, val loss 2.0305\n",
            "step 1600: train loss 1.9626, val loss 2.0485\n",
            "step 1700: train loss 1.9413, val loss 2.0144\n",
            "step 1800: train loss 1.9087, val loss 1.9962\n",
            "step 1900: train loss 1.9089, val loss 1.9891\n",
            "step 2000: train loss 1.8865, val loss 1.9969\n",
            "step 2100: train loss 1.8720, val loss 1.9763\n",
            "step 2200: train loss 1.8580, val loss 1.9599\n",
            "step 2300: train loss 1.8556, val loss 1.9518\n",
            "step 2400: train loss 1.8422, val loss 1.9443\n",
            "step 2500: train loss 1.8174, val loss 1.9449\n",
            "step 2600: train loss 1.8273, val loss 1.9386\n",
            "step 2700: train loss 1.8133, val loss 1.9341\n",
            "step 2800: train loss 1.8045, val loss 1.9221\n",
            "step 2900: train loss 1.8049, val loss 1.9316\n",
            "step 3000: train loss 1.7953, val loss 1.9211\n",
            "step 3100: train loss 1.7672, val loss 1.9176\n",
            "step 3200: train loss 1.7538, val loss 1.9093\n",
            "step 3300: train loss 1.7553, val loss 1.9030\n",
            "step 3400: train loss 1.7548, val loss 1.8958\n",
            "step 3500: train loss 1.7384, val loss 1.8937\n",
            "step 3600: train loss 1.7264, val loss 1.8864\n",
            "step 3700: train loss 1.7297, val loss 1.8808\n",
            "step 3800: train loss 1.7192, val loss 1.8937\n",
            "step 3900: train loss 1.7215, val loss 1.8749\n",
            "step 4000: train loss 1.7145, val loss 1.8593\n",
            "step 4100: train loss 1.7131, val loss 1.8775\n",
            "step 4200: train loss 1.7061, val loss 1.8676\n",
            "step 4300: train loss 1.6996, val loss 1.8491\n",
            "step 4400: train loss 1.7066, val loss 1.8659\n",
            "step 4500: train loss 1.6883, val loss 1.8506\n",
            "step 4600: train loss 1.6844, val loss 1.8343\n",
            "step 4700: train loss 1.6839, val loss 1.8464\n",
            "step 4800: train loss 1.6665, val loss 1.8446\n",
            "step 4900: train loss 1.6694, val loss 1.8355\n",
            "step 4999: train loss 1.6642, val loss 1.8239\n"
          ]
        }
      ]
    },
    {
      "cell_type": "code",
      "source": [
        "# generate from the model\n",
        "context = torch.zeros((1, 1), dtype=torch.long, device=device)\n",
        "print(decode(m.generate(context, max_new_tokens=2000)[0].tolist()))"
      ],
      "metadata": {
        "colab": {
          "base_uri": "https://localhost:8080/"
        },
        "id": "PMrfgo5kTIbG",
        "outputId": "67f0045d-baf4-4e72-be46-b06b951d2f5f"
      },
      "execution_count": null,
      "outputs": [
        {
          "output_type": "stream",
          "name": "stdout",
          "text": [
            "\n",
            "ROMEO:\n",
            "But you fret, hell, where Volivius:\n",
            "They now I usless like, to to see this grand; I'll must sprinks dray-wretor upwon alond, liege wan thy lace blaniess to hanger and nour gruest:\n",
            "Now to by betwers tot, tow, go:\n",
            "Eve nor to his ghards wifill my join not.\n",
            "\n",
            "LUCIY:\n",
            "Lord,----\n",
            "But thou sging them but\n",
            "am they beens us\n",
            "By thou sovore.\n",
            "\n",
            "ISABELLA:\n",
            "The pitsade but grove to hadgeles!\n",
            "\n",
            "CLARD:\n",
            "The kingle me; an your tords wants jecuntal.\n",
            "\n",
            "MENVO:\n",
            "I be e'll comfsir, whom in the sceed with mad him to is forgiving:\n",
            "Go, be slouce ways! do to-smages:\n",
            "Once it his susin, passess stond? the haspe, lew, ever some to me with dought:\n",
            "In your hear him, and that, out thy whose my late all that you by joyly us beliess Lord:\n",
            "Well-mone is not lets, for with!\n",
            "He arre royper rivioled orcusion\n",
            "What confess, temile you by that thou grurn that such differs I'll bear confetio-s:\n",
            "To, no at and her long wornt, and on aflience;\n",
            "And um you, profort, take, thou, names:\n",
            "In mistragoing, now our beavehs exeny with.\n",
            "\n",
            "GLOUCESTER:\n",
            "\n",
            "HENRY Me, whose? but to good it that wing thy dukes,\n",
            "I ward than war\n",
            "offightant, I us onle adgrians viles.\n",
            "\n",
            "PUMPERD:\n",
            "It that advouter:\n",
            "If ver have her.\n",
            "Must now sow I wish that my brunk\n",
            "But you renvenger am stand and of the loves mark own!\n",
            "'Dacking to the sid, to? so.\n",
            "Yet my singel I ranca: thou fult,\n",
            "An king this woulds no the said out\n",
            "offerds frul, I'll Rame, to beets nighm\n",
            "in hims adughted diernm.\n",
            "3 And Mow your whorth\n",
            "And whom fetch unto will rest:\n",
            "My brive, her his toward to that his sabired.\n",
            "But, prewer, sorrow lom if curner,\n",
            "But us so, tondury; wat's fastes for your heere whope snonet stand the father adviets Cappentriagh that brird\n",
            "of say mover a desrick.\n",
            "\n",
            "MONTAM:\n",
            "You he; give\n",
            "Nince, I is have.\n",
            "\n",
            "Set:\n",
            "BUCKINGHAM:\n",
            "Let requmal I upon me.\n",
            "\n",
            "HENRY BOLINGBRA:\n",
            "That wife the back with wowitte,\n",
            "Which bunnain fall more in in meept twate,\n",
            "You staves that high pray plate on bring.\n",
            "\n",
            "NORDUKE:\n",
            "The stituly, maint, yet having. But, the castions:\n",
            "O 'tis lace;--\n",
            "\n",
            "BUCKINGS:\n",
            "On; grave, before\n"
          ]
        }
      ]
    }
  ]
}